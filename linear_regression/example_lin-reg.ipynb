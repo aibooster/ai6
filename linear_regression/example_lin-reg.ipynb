{
 "cells": [
  {
   "cell_type": "code",
   "execution_count": 13,
   "metadata": {},
   "outputs": [],
   "source": [
    "import numpy as np\n",
    "\n",
    "import matplotlib.pyplot as plt\n",
    "%matplotlib inline"
   ]
  },
  {
   "cell_type": "markdown",
   "metadata": {},
   "source": [
    "---"
   ]
  },
  {
   "cell_type": "code",
   "execution_count": 47,
   "metadata": {},
   "outputs": [],
   "source": [
    "def estimate_coefficients(x, y):\n",
    "    # берем размер X\n",
    "    size_x = np.size(x)\n",
    "\n",
    "    # оцениваем среднейй\n",
    "    mean_x, mean_y = np.mean(x), np.mean(y)\n",
    "\n",
    "    # вычисляем стандартное отклонение и отклонение от x\n",
    "    cross_deviation_xy = np.sum(y * x - size_x * mean_y * mean_x)\n",
    "    cross_deviation_xx = np.sum(x * x - size_x * mean_x * mean_x)\n",
    "\n",
    "    # вычисляем  коеф. регр. (по которым необходимо переместить линию регрессии)\n",
    "    regr_coef_1 = cross_deviation_xy / cross_deviation_xx\n",
    "    regr_coef_0 = mean_y - regr_coef_1 * mean_x\n",
    "\n",
    "    return regr_coef_0, regr_coef_1"
   ]
  },
  {
   "cell_type": "code",
   "execution_count": 62,
   "metadata": {},
   "outputs": [],
   "source": [
    "def plot(x, y, b):\n",
    "    plt.scatter(x, y, color='b', marker='o')\n",
    "\n",
    "    y_pred = b[0] + b[1] * x\n",
    "\n",
    "    plt.plot(x, y_pred, color='r')\n",
    "\n",
    "    plt.xlabel('size')\n",
    "    plt.ylabel('cost')\n",
    "\n",
    "    #plt.show()"
   ]
  },
  {
   "cell_type": "code",
   "execution_count": 104,
   "metadata": {},
   "outputs": [],
   "source": [
    "# основная ф-я, которая генерит случайные (x,y) и строить уже готовый график с коэфф.\n",
    "def main():\n",
    "    # генерим массив случайных целых чисел\n",
    "    x = np.array(np.random.randint(100, size=20))\n",
    "    y = np.array(np.random.randint(100, size=20))\n",
    "    print('вектор x: ', x)\n",
    "    print('вектор y: ', y)\n",
    "\n",
    "    estimate_coef = estimate_coefficients(x, y)\n",
    "    print('коэффициенты: ({},{})'.format(estimate_coef[0], estimate_coef[1]))\n",
    "\n",
    "    plot(x, y, estimate_coef)"
   ]
  },
  {
   "cell_type": "code",
   "execution_count": 103,
   "metadata": {
    "scrolled": false
   },
   "outputs": [
    {
     "name": "stdout",
     "output_type": "stream",
     "text": [
      "вектор x:  [94 95  6 25  4 93 94 60 13 40 24 69 73 68  1 13 81 24 54 45]\n",
      "вектор y:  [15 21 70  6 95 77 23 95  4  1 33 65 62  9 39 35 36 13 83 73]\n",
      "коэффициенты: (-1.0498619356620082,0.8975381544193035)\n"
     ]
    },
    {
     "data": {
      "image/png": "[encoded data removed]",
      "text/plain": [
       "<Figure size 432x288 with 1 Axes>"
      ]
     },
     "metadata": {
      "needs_background": "light"
     },
     "output_type": "display_data"
    }
   ],
   "source": [
    "main()"
   ]
  },
  {
   "cell_type": "code",
   "execution_count": null,
   "metadata": {},
   "outputs": [],
   "source": []
  },
  {
   "cell_type": "markdown",
   "metadata": {},
   "source": [
    "---"
   ]
  },
  {
   "cell_type": "markdown",
   "metadata": {},
   "source": [
    "### теперь воспользуемся готовой либой и предскажем для новых данных"
   ]
  },
  {
   "cell_type": "code",
   "execution_count": null,
   "metadata": {},
   "outputs": [],
   "source": [
    "from sklearn.linear_model import LinearRegression"
   ]
  },
  {
   "cell_type": "code",
   "execution_count": 128,
   "metadata": {
    "collapsed": true
   },
   "outputs": [
    {
     "data": {
      "text/plain": [
       "array([[16.35627971],\n",
       "       [15.29983826],\n",
       "       [14.54513565],\n",
       "       [18.565905  ],\n",
       "       [17.1349154 ],\n",
       "       [ 6.90638249],\n",
       "       [28.65845892],\n",
       "       [24.53317923],\n",
       "       [ 1.81215636],\n",
       "       [23.31937447],\n",
       "       [ 4.62689323],\n",
       "       [10.21194867],\n",
       "       [25.80935773],\n",
       "       [18.62226152],\n",
       "       [18.59501026],\n",
       "       [26.73886402],\n",
       "       [ 1.82171561],\n",
       "       [29.95512074],\n",
       "       [19.65807887],\n",
       "       [ 6.55875409]])"
      ]
     },
     "execution_count": 128,
     "metadata": {},
     "output_type": "execute_result"
    }
   ],
   "source": [
    "# x от 0 до 30\n",
    "x = 30 * np.random.random((20, 1))\n",
    "x"
   ]
  },
  {
   "cell_type": "code",
   "execution_count": 129,
   "metadata": {
    "collapsed": true
   },
   "outputs": [
    {
     "data": {
      "text/plain": [
       "array([[ 8.00707992],\n",
       "       [ 8.07883033],\n",
       "       [ 8.04944273],\n",
       "       [ 8.88834052],\n",
       "       [10.22683014],\n",
       "       [ 3.11790612],\n",
       "       [15.57246334],\n",
       "       [14.97329909],\n",
       "       [ 1.55919474],\n",
       "       [12.47010229],\n",
       "       [ 4.67674268],\n",
       "       [ 6.25089549],\n",
       "       [13.08145572],\n",
       "       [10.7266512 ],\n",
       "       [10.51359805],\n",
       "       [13.32251256],\n",
       "       [ 0.71690614],\n",
       "       [16.60864549],\n",
       "       [11.81613708],\n",
       "       [ 4.82029735]])"
      ]
     },
     "execution_count": 129,
     "metadata": {},
     "output_type": "execute_result"
    }
   ],
   "source": [
    "# y = a*x + b с небольшим шумомм\n",
    "y = 0.5 * x + 1.0 + np.random.normal(size=x.shape)\n",
    "y"
   ]
  },
  {
   "cell_type": "code",
   "execution_count": 130,
   "metadata": {},
   "outputs": [
    {
     "data": {
      "text/plain": [
       "LinearRegression(copy_X=True, fit_intercept=True, n_jobs=1, normalize=False)"
      ]
     },
     "execution_count": 130,
     "metadata": {},
     "output_type": "execute_result"
    }
   ],
   "source": [
    "# создаем и обучаем модель\n",
    "reg = LinearRegression()\n",
    "model = reg.fit(x, y)\n",
    "model"
   ]
  },
  {
   "cell_type": "code",
   "execution_count": null,
   "metadata": {},
   "outputs": [],
   "source": []
  },
  {
   "cell_type": "code",
   "execution_count": 136,
   "metadata": {
    "scrolled": true
   },
   "outputs": [
    {
     "data": {
      "text/plain": [
       "(100, 100)"
      ]
     },
     "execution_count": 136,
     "metadata": {},
     "output_type": "execute_result"
    }
   ],
   "source": [
    "# предсказываем для новых данных с помощью `model.predict()`\n",
    "x_new = np.linspace(0, 30, 100)\n",
    "y_new = model.predict(x_new[:, np.newaxis])\n",
    "len(x_new), len(y_new)"
   ]
  },
  {
   "cell_type": "code",
   "execution_count": 147,
   "metadata": {
    "scrolled": true
   },
   "outputs": [
    {
     "data": {
      "text/plain": [
       "[<matplotlib.lines.Line2D at 0x121cb2048>]"
      ]
     },
     "execution_count": 147,
     "metadata": {},
     "output_type": "execute_result"
    },
    {
     "data": {
      "image/png": "[encoded data removed]",
      "text/plain": [
       "<Figure size 432x288 with 1 Axes>"
      ]
     },
     "metadata": {
      "needs_background": "light"
     },
     "output_type": "display_data"
    }
   ],
   "source": [
    "plt.xlabel('size')\n",
    "plt.ylabel('cost')\n",
    "plt.scatter(x, y,color='b')\n",
    "\n",
    "plt.plot(x_new, y_new,color='r')"
   ]
  },
  {
   "cell_type": "markdown",
   "metadata": {},
   "source": [
    "---"
   ]
  },
  {
   "cell_type": "markdown",
   "metadata": {},
   "source": [
    "### простое задание:\n",
    "построить лин рег с помощью numpy"
   ]
  },
  {
   "cell_type": "code",
   "execution_count": 148,
   "metadata": {},
   "outputs": [],
   "source": [
    "# ваш код ниже"
   ]
  },
  {
   "cell_type": "code",
   "execution_count": null,
   "metadata": {},
   "outputs": [],
   "source": []
  },
  {
   "cell_type": "code",
   "execution_count": null,
   "metadata": {},
   "outputs": [],
   "source": []
  }
 ],
 "metadata": {
  "kernelspec": {
   "display_name": "Python 3",
   "language": "python",
   "name": "python3"
  },
  "language_info": {
   "codemirror_mode": {
    "name": "ipython",
    "version": 3
   },
   "file_extension": ".py",
   "mimetype": "text/x-python",
   "name": "python",
   "nbconvert_exporter": "python",
   "pygments_lexer": "ipython3",
   "version": "3.6.2"
  },
  "varInspector": {
   "cols": {
    "lenName": 16,
    "lenType": 16,
    "lenVar": 40
   },
   "kernels_config": {
    "python": {
     "delete_cmd_postfix": "",
     "delete_cmd_prefix": "del ",
     "library": "var_list.py",
     "varRefreshCmd": "print(var_dic_list())"
    },
    "r": {
     "delete_cmd_postfix": ") ",
     "delete_cmd_prefix": "rm(",
     "library": "var_list.r",
     "varRefreshCmd": "cat(var_dic_list()) "
    }
   },
   "types_to_exclude": [
    "module",
    "function",
    "builtin_function_or_method",
    "instance",
    "_Feature"
   ],
   "window_display": false
  }
 },
 "nbformat": 4,
 "nbformat_minor": 2
}
